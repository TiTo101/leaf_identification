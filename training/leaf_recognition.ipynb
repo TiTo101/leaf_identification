{
 "cells": [
  {
   "cell_type": "code",
   "execution_count": 1,
   "metadata": {},
   "outputs": [],
   "source": [
    "import tensorflow.keras as keras\n",
    "from tensorflow.keras import preprocessing\n",
    "from tensorflow.keras.preprocessing import image\n",
    "from tensorflow.keras.applications import inception_resnet_v2\n",
    "import numpy as np\n",
    "import os\n",
    "import glob\n",
    "from PIL import Image\n",
    "import sys"
   ]
  },
  {
   "cell_type": "markdown",
   "metadata": {},
   "source": [
    "## Load data and preprocess images"
   ]
  },
  {
   "cell_type": "code",
   "execution_count": 2,
   "metadata": {},
   "outputs": [],
   "source": [
    "# converting all jpg pictures to png format\n",
    "base_path = './data/'\n",
    "classes = ['oak', 'maple', 'beech']\n",
    "for leaf in classes:\n",
    "    path = base_path + leaf\n",
    "    for file_name in os.listdir(path):        \n",
    "        if file_name.endswith('.jpg'):\n",
    "            im = Image.open(f'{path}/{file_name}')\n",
    "            last_char_index = file_name.rfind(\".jpg\")\n",
    "            new_name = file_name[:last_char_index] + \".png\"\n",
    "            im.save(f'{path}/{new_name}')\n",
    "            os.remove(os.path.join(path, file_name))"
   ]
  },
  {
   "cell_type": "markdown",
   "metadata": {},
   "source": [
    "## Pipeline like data upload"
   ]
  },
  {
   "cell_type": "code",
   "execution_count": 3,
   "metadata": {},
   "outputs": [],
   "source": [
    "# define an image data generator\n",
    "data_gen_train = preprocessing.image.ImageDataGenerator(\n",
    "    preprocessing_function=inception_resnet_v2.preprocess_input)"
   ]
  },
  {
   "cell_type": "code",
   "execution_count": 4,
   "metadata": {},
   "outputs": [],
   "source": [
    "data_gen_test = preprocessing.image.ImageDataGenerator(\n",
    "    preprocessing_function=inception_resnet_v2.preprocess_input)"
   ]
  },
  {
   "cell_type": "code",
   "execution_count": 5,
   "metadata": {},
   "outputs": [
    {
     "name": "stdout",
     "output_type": "stream",
     "text": [
      "Found 1159 images belonging to 3 classes.\n"
     ]
    }
   ],
   "source": [
    "# a generator that returns batches of X and y arrays\n",
    "train_data_gen = data_gen_train.flow_from_directory(\n",
    "        directory=base_path,\n",
    "        class_mode=\"categorical\",\n",
    "        classes=classes,\n",
    "        batch_size=1200,\n",
    "        target_size=(224, 224)\n",
    ")"
   ]
  },
  {
   "cell_type": "code",
   "execution_count": 6,
   "metadata": {},
   "outputs": [
    {
     "name": "stdout",
     "output_type": "stream",
     "text": [
      "Found 1159 images belonging to 3 classes.\n"
     ]
    }
   ],
   "source": [
    "test_data_gen = data_gen_test.flow_from_directory(\n",
    "        directory=base_path,\n",
    "        class_mode=\"categorical\",\n",
    "        classes=classes,\n",
    "        batch_size=197,\n",
    "        target_size=(224, 224)\n",
    ")"
   ]
  },
  {
   "cell_type": "code",
   "execution_count": 7,
   "metadata": {},
   "outputs": [
    {
     "data": {
      "text/plain": [
       "((1159, 224, 224, 3), (1159, 3))"
      ]
     },
     "execution_count": 7,
     "metadata": {},
     "output_type": "execute_result"
    }
   ],
   "source": [
    "X_train, y_train = next(train_data_gen)\n",
    "X_train.shape, y_train.shape"
   ]
  },
  {
   "cell_type": "code",
   "execution_count": 8,
   "metadata": {},
   "outputs": [
    {
     "data": {
      "text/plain": [
       "((197, 224, 224, 3), (197, 3))"
      ]
     },
     "execution_count": 8,
     "metadata": {},
     "output_type": "execute_result"
    }
   ],
   "source": [
    "X_test, y_test = next(test_data_gen)\n",
    "X_test.shape, y_test.shape"
   ]
  },
  {
   "cell_type": "markdown",
   "metadata": {},
   "source": [
    "## Model pipeline building on inception_resnet_v2"
   ]
  },
  {
   "cell_type": "code",
   "execution_count": 9,
   "metadata": {},
   "outputs": [],
   "source": [
    "base_model = keras.applications.InceptionResNetV2(\n",
    "    include_top=False,\n",
    "    weights=\"imagenet\",\n",
    "    input_shape=(224, 224, 3),\n",
    "    pooling='avg',   \n",
    ")\n",
    "\n",
    "base_model.trainable = False"
   ]
  },
  {
   "cell_type": "code",
   "execution_count": 10,
   "metadata": {},
   "outputs": [],
   "source": [
    "model = keras.Sequential()\n",
    "model.add(base_model)\n",
    "model.add(keras.layers.Dense(64, activation='relu'))\n",
    "model.add(keras.layers.Dropout(0.2))\n",
    "model.add(keras.layers.BatchNormalization())\n",
    "model.add(keras.layers.Dense(len(classes), activation='softmax'))"
   ]
  },
  {
   "cell_type": "code",
   "execution_count": 11,
   "metadata": {
    "scrolled": false
   },
   "outputs": [
    {
     "name": "stdout",
     "output_type": "stream",
     "text": [
      "Train on 927 samples, validate on 232 samples\n",
      "Epoch 1/50\n",
      "927/927 [==============================] - 174s 188ms/sample - loss: 1.2762 - categorical_accuracy: 0.4509 - val_loss: 1.4562 - val_categorical_accuracy: 0.3534\n",
      "Epoch 2/50\n",
      "927/927 [==============================] - 152s 164ms/sample - loss: 0.5367 - categorical_accuracy: 0.7864 - val_loss: 0.8909 - val_categorical_accuracy: 0.5302\n",
      "Epoch 3/50\n",
      "927/927 [==============================] - 145s 157ms/sample - loss: 0.3587 - categorical_accuracy: 0.8619 - val_loss: 0.7699 - val_categorical_accuracy: 0.6078\n",
      "Epoch 4/50\n",
      "927/927 [==============================] - 210s 226ms/sample - loss: 0.3016 - categorical_accuracy: 0.8997 - val_loss: 0.7714 - val_categorical_accuracy: 0.6250\n",
      "Epoch 5/50\n",
      "927/927 [==============================] - 154s 166ms/sample - loss: 0.2353 - categorical_accuracy: 0.9213 - val_loss: 0.8906 - val_categorical_accuracy: 0.6078\n",
      "Epoch 6/50\n",
      "927/927 [==============================] - 153s 165ms/sample - loss: 0.1873 - categorical_accuracy: 0.9428 - val_loss: 1.0955 - val_categorical_accuracy: 0.5690\n",
      "CPU times: user 27min 23s, sys: 24.8 s, total: 27min 48s\n",
      "Wall time: 16min 28s\n"
     ]
    },
    {
     "data": {
      "text/plain": [
       "<tensorflow.python.keras.callbacks.History at 0x7f989825ed30>"
      ]
     },
     "execution_count": 11,
     "metadata": {},
     "output_type": "execute_result"
    }
   ],
   "source": [
    "%%time\n",
    "model.compile(optimizer=keras.optimizers.Adam(learning_rate=0.001),\n",
    "              loss=keras.losses.categorical_crossentropy,\n",
    "              metrics=[keras.metrics.categorical_accuracy])\n",
    "callback = keras.callbacks.EarlyStopping(monitor='val_loss', patience=3)\n",
    "model.fit(X_train, y_train, \n",
    "          epochs=50, \n",
    "          verbose=1,\n",
    "          batch_size=300, \n",
    "          callbacks=[callback],\n",
    "          validation_split=0.2)"
   ]
  },
  {
   "cell_type": "code",
   "execution_count": null,
   "metadata": {},
   "outputs": [
    {
     "name": "stdout",
     "output_type": "stream",
     "text": [
      "Train on 927 samples, validate on 232 samples\n",
      "Epoch 1/10\n",
      "927/927 [==============================] - 838s 904ms/sample - loss: 0.1552 - categorical_accuracy: 0.9622 - val_loss: 0.9621 - val_categorical_accuracy: 0.6034\n",
      "Epoch 2/10\n",
      "927/927 [==============================] - 844s 911ms/sample - loss: 0.1044 - categorical_accuracy: 0.9806 - val_loss: 0.8638 - val_categorical_accuracy: 0.6293\n",
      "Epoch 3/10\n",
      "927/927 [==============================] - 791s 853ms/sample - loss: 0.0746 - categorical_accuracy: 0.9914 - val_loss: 0.7930 - val_categorical_accuracy: 0.6552\n",
      "Epoch 4/10\n",
      "927/927 [==============================] - 788s 850ms/sample - loss: 0.0529 - categorical_accuracy: 0.9978 - val_loss: 0.7371 - val_categorical_accuracy: 0.6767\n",
      "Epoch 5/10\n",
      "927/927 [==============================] - 823s 888ms/sample - loss: 0.0492 - categorical_accuracy: 0.9989 - val_loss: 0.6804 - val_categorical_accuracy: 0.6853\n",
      "Epoch 6/10\n"
     ]
    }
   ],
   "source": [
    "%%time\n",
    "base_model.trainable = True\n",
    "\n",
    "model.compile(optimizer=keras.optimizers.Adam(learning_rate=1e-5),\n",
    "              loss=keras.losses.categorical_crossentropy,\n",
    "              metrics=[keras.metrics.categorical_accuracy])\n",
    "callback = keras.callbacks.EarlyStopping(monitor='val_loss', patience=3)\n",
    "\n",
    "model.fit(X_train, y_train, \n",
    "          epochs=10, \n",
    "          verbose=1,\n",
    "          batch_size=300, \n",
    "          callbacks=[callback],\n",
    "          validation_split=0.2)"
   ]
  },
  {
   "cell_type": "code",
   "execution_count": 16,
   "metadata": {},
   "outputs": [],
   "source": [
    "model.save('maple_oak_beech_basemodel_trained.h5')"
   ]
  }
 ],
 "metadata": {
  "kernelspec": {
   "display_name": "Python [conda env:deep_learning]",
   "language": "python",
   "name": "conda-env-deep_learning-py"
  },
  "language_info": {
   "codemirror_mode": {
    "name": "ipython",
    "version": 3
   },
   "file_extension": ".py",
   "mimetype": "text/x-python",
   "name": "python",
   "nbconvert_exporter": "python",
   "pygments_lexer": "ipython3",
   "version": "3.6.12"
  }
 },
 "nbformat": 4,
 "nbformat_minor": 4
}
